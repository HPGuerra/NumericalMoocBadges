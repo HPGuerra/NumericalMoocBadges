{
 "metadata": {
  "name": "",
  "signature": "sha256:4ca1996f121281ecf5c2c5d94f3b5130f300f77905644822dd0eb28e8ea24b68"
 },
 "nbformat": 3,
 "nbformat_minor": 0,
 "worksheets": [
  {
   "cells": [
    {
     "cell_type": "code",
     "collapsed": false,
     "input": [
      "\"Sympy exercise\"\n",
      "import sympy\n",
      "from sympy import cos, sin, exp\n",
      "sympy.init_printing()\n",
      "x=sympy.symbols('x')\n",
      "a=((cos(x)**2)*(sin(x)**3))/(4*(x**5)*exp(x))\n",
      "df=sympy.diff(a,x)\n",
      "df.subs(x,2.2)"
     ],
     "language": "python",
     "metadata": {},
     "outputs": [
      {
       "latex": [
        "$$-0.000266489126709206$$"
       ],
       "metadata": {},
       "output_type": "pyout",
       "png": "[encoded data removed]",
       "prompt_number": 1,
       "text": [
        "-0.000266489126709206"
       ]
      }
     ],
     "prompt_number": 1
    },
    {
     "cell_type": "code",
     "collapsed": false,
     "input": [
      "import numpy"
     ],
     "language": "python",
     "metadata": {},
     "outputs": [],
     "prompt_number": 2
    },
    {
     "cell_type": "code",
     "collapsed": false,
     "input": [
      "def F(rho):\n",
      "    \"\"\" Compute the car flux\"\"\"\n",
      "    return v_max*rho*(1-(rho/rho_max))"
     ],
     "language": "python",
     "metadata": {},
     "outputs": [],
     "prompt_number": 43
    },
    {
     "cell_type": "code",
     "collapsed": false,
     "input": [
      "\"conditions of the problem\"\n",
      "v_max=80\n",
      "L=11.\n",
      "rho_max=250\n",
      "nx=51\n",
      "dt=0.001\n",
      "dx=L/(nx-1)"
     ],
     "language": "python",
     "metadata": {},
     "outputs": [],
     "prompt_number": 44
    },
    {
     "cell_type": "code",
     "collapsed": false,
     "input": [
      "\"initial conditions\"\n",
      "x = numpy.linspace(0,L,nx)\n",
      "rho0 = numpy.ones(nx)*10\n",
      "rho0[10:20] = 50"
     ],
     "language": "python",
     "metadata": {},
     "outputs": [],
     "prompt_number": 45
    },
    {
     "cell_type": "code",
     "collapsed": false,
     "input": [
      "\"exercise 1\"\n",
      "print min(v_max*(1-rho0/rho_max))*0.27778"
     ],
     "language": "python",
     "metadata": {},
     "outputs": [
      {
       "output_type": "stream",
       "stream": "stdout",
       "text": [
        "17.77792\n"
       ]
      }
     ],
     "prompt_number": 46
    },
    {
     "cell_type": "code",
     "collapsed": false,
     "input": [
      "\"exercise 2\"\n",
      "n=0.05/dt\n",
      "rho=rho0.copy()\n",
      "flux=F(rho)\n",
      "for i in range(1,int(n)):\n",
      "    rho[1:]=rho[1:]-(dt/dx)*(flux[1:]-flux[:-1])\n",
      "    flux=F(rho)\n",
      "    rho[0]=10 \n",
      "v=v_max*(1-(rho/rho_max))\n",
      "v_av=sum(v*dx)/L\n",
      "print v_av*0.27778"
     ],
     "language": "python",
     "metadata": {},
     "outputs": [
      {
       "output_type": "stream",
       "stream": "stdout",
       "text": [
        "21.0490576115\n"
       ]
      }
     ],
     "prompt_number": 53
    },
    {
     "cell_type": "code",
     "collapsed": false,
     "input": [
      "\"exercise 3\"\n",
      "n=0.1/dt\n",
      "rho=rho0.copy()\n",
      "flux=F(rho)\n",
      "for i in range(1,int(n)):\n",
      "    rho[1:]=rho[1:]-(dt/dx)*(flux[1:]-flux[:-1])\n",
      "    flux=F(rho)\n",
      "    rho[0]=10 \n",
      "v=v_max*(1-(rho/rho_max))\n",
      "print min(v)*0.27778"
     ],
     "language": "python",
     "metadata": {},
     "outputs": [
      {
       "output_type": "stream",
       "stream": "stdout",
       "text": [
        "18.7768018279\n"
       ]
      }
     ],
     "prompt_number": 54
    },
    {
     "cell_type": "code",
     "collapsed": false,
     "input": [
      "\"new initial conditions\"\n",
      "v_max=136\n",
      "x = numpy.linspace(0,L,nx)\n",
      "rho0 = numpy.ones(nx)*20\n",
      "rho0[10:20] = 50"
     ],
     "language": "python",
     "metadata": {},
     "outputs": [],
     "prompt_number": 61
    },
    {
     "cell_type": "code",
     "collapsed": false,
     "input": [
      "\"exercise 4\"\n",
      "print min(v_max*(1-(rho0/rho_max)))*0.27778"
     ],
     "language": "python",
     "metadata": {},
     "outputs": [
      {
       "output_type": "stream",
       "stream": "stdout",
       "text": [
        "30.222464\n"
       ]
      }
     ],
     "prompt_number": 62
    },
    {
     "cell_type": "code",
     "collapsed": false,
     "input": [
      "\"exercise 5\"\n",
      "n=0.05/dt\n",
      "rho=rho0.copy()\n",
      "flux=F(rho)\n",
      "for i in range(1,int(n)):\n",
      "    rho[1:]=rho[1:]-(dt/dx)*(flux[1:]-flux[:-1])\n",
      "    flux=F(rho)\n",
      "    rho[0]=20 \n",
      "v=v_max*(1-(rho/rho_max))\n",
      "v_av=sum(v*dx)/L\n",
      "print v_av*0.27778"
     ],
     "language": "python",
     "metadata": {},
     "outputs": [
      {
       "output_type": "stream",
       "stream": "stdout",
       "text": [
        "34.5481732321\n"
       ]
      }
     ],
     "prompt_number": 63
    },
    {
     "cell_type": "code",
     "collapsed": false,
     "input": [
      "\"exercise 6\"\n",
      "n=0.05/dt\n",
      "rho=rho0.copy()\n",
      "flux=F(rho)\n",
      "for i in range(1,int(n)):\n",
      "    rho[1:]=rho[1:]-(dt/dx)*(flux[1:]-flux[:-1])\n",
      "    flux=F(rho)\n",
      "    rho[0]=20 \n",
      "v=v_max*(1-(rho/rho_max))\n",
      "print min(v)*0.27778"
     ],
     "language": "python",
     "metadata": {},
     "outputs": [
      {
       "output_type": "stream",
       "stream": "stdout",
       "text": [
        "30.9464512065\n"
       ]
      }
     ],
     "prompt_number": 64
    },
    {
     "cell_type": "code",
     "collapsed": false,
     "input": [],
     "language": "python",
     "metadata": {},
     "outputs": []
    }
   ],
   "metadata": {}
  }
 ]
}