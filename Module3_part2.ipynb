{
 "metadata": {
  "name": "",
  "signature": "sha256:4990161db9520c3c0cfeb6a2122139f698a7cc35b4b3b74c223edf67a3ee5ee6"
 },
 "nbformat": 3,
 "nbformat_minor": 0,
 "worksheets": [
  {
   "cells": [
    {
     "cell_type": "code",
     "collapsed": false,
     "input": [
      "import numpy\n",
      "from math import sqrt\n",
      "import sympy\n",
      "sympy.init_printing()\n"
     ],
     "language": "python",
     "metadata": {},
     "outputs": [],
     "prompt_number": 36
    },
    {
     "cell_type": "code",
     "collapsed": false,
     "input": [
      "\"Using the final equations\"\n",
      "rho_max=15.\n",
      "u_max=2.\n",
      "u_star=1.5\n",
      "A=numpy.array([(1/(2*(rho_max**2)*u_max*(u_max-2*u_star)))*(((rho_max*(2*u_max-3*u_star)**2))-sqrt(-(rho_max**2)*u_star*((2*u_max-3*u_star)**2)*(4*u_max-9*u_star))),(1/(2*(rho_max**2)*u_max*(u_max-2*u_star)))*(((rho_max*(2*u_max-3*u_star)**2))+sqrt(-(rho_max**2)*u_star*((2*u_max-3*u_star)**2)*(4*u_max-9*u_star)))])\n",
      "B=(1/(rho_max**2))*(-A*rho_max+1)"
     ],
     "language": "python",
     "metadata": {},
     "outputs": [],
     "prompt_number": 37
    },
    {
     "cell_type": "code",
     "collapsed": false,
     "input": [
      "print A, B"
     ],
     "language": "python",
     "metadata": {},
     "outputs": [
      {
       "output_type": "stream",
       "stream": "stdout",
       "text": [
        "[ 0.01976901 -0.02810234] [ 0.00312651  0.00631793]\n"
       ]
      }
     ],
     "prompt_number": 38
    },
    {
     "cell_type": "code",
     "collapsed": false,
     "input": [
      "u_max_s, rho_s, A_s, B_s=sympy.symbols( 'u_max_s rho_s A_s B_s')\n",
      "eq1=sympy.Eq(0,u_max_s*(1-2*A_s*rho_s-3*B_s*(rho_s**2) ))\n",
      "rho_sy=sympy.solve(eq1,rho_s)\n",
      "rho_sy[0].subs([(A_s,A[0]),(B_s,B[0])]), rho_sy[1].subs([(A_s,A[0]),(B_s,B[0])])"
     ],
     "language": "python",
     "metadata": {},
     "outputs": [
      {
       "output_type": "stream",
       "stream": "stderr",
       "text": [
        "C:\\Anaconda\\lib\\site-packages\\IPython\\core\\formatters.py:239: FormatterWarning: Exception in image/png formatter: \n",
        "\\begin{pmatrix}8.43070330817254, & -12.6460549622588\\end{pmatrix}\n",
        "^\n",
        "Unknown symbol: \\begin (at char 0), (line:1, col:1)\n",
        "  FormatterWarning,\n"
       ]
      },
      {
       "latex": [
        "$$\\begin{pmatrix}8.43070330817254, & -12.6460549622588\\end{pmatrix}$$"
       ],
       "metadata": {},
       "output_type": "pyout",
       "prompt_number": 54,
       "text": [
        "(8.43070330817254, -12.6460549622588)"
       ]
      }
     ],
     "prompt_number": 54
    },
    {
     "cell_type": "code",
     "collapsed": false,
     "input": [],
     "language": "python",
     "metadata": {},
     "outputs": [
      {
       "output_type": "stream",
       "stream": "stdout",
       "text": [
        "Object `sympy.subs` not found.\n"
       ]
      }
     ],
     "prompt_number": 49
    },
    {
     "cell_type": "code",
     "collapsed": false,
     "input": [],
     "language": "python",
     "metadata": {},
     "outputs": []
    },
    {
     "cell_type": "code",
     "collapsed": false,
     "input": [],
     "language": "python",
     "metadata": {},
     "outputs": []
    }
   ],
   "metadata": {}
  }
 ]
}