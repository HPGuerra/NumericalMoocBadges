{
 "metadata": {
  "name": "",
  "signature": "sha256:008bdac5f1e578dab1243b332f36bd7b6efd8a40b258468e5ab9c69031243f71"
 },
 "nbformat": 3,
 "nbformat_minor": 0,
 "worksheets": [
  {
   "cells": [
    {
     "cell_type": "code",
     "collapsed": false,
     "input": [
      "import numpy\n",
      "%matplotlib inline\n",
      "import matplotlib.pyplot as plt\n",
      "from matplotlib import animation\n",
      "from JSAnimation.IPython_display import display_animation"
     ],
     "language": "python",
     "metadata": {},
     "outputs": [],
     "prompt_number": 349
    },
    {
     "cell_type": "code",
     "collapsed": false,
     "input": [
      "\"Problem paramaters\"\n",
      "nx=81\n",
      "dx=20./(nx-1)\n",
      "x=numpy.linspace(-10,10,nx)\n",
      "dt=0.0002\n",
      "gamma=1.4"
     ],
     "language": "python",
     "metadata": {},
     "outputs": [],
     "prompt_number": 350
    },
    {
     "cell_type": "code",
     "collapsed": false,
     "input": [
      "\"initial conditions\"\n",
      "\"ICl\"\n",
      "u1_0=numpy.ones(nx)     #I will use the formulation u1, u2, u3, given in the problem statement (u1=rho u2=rho*v u3=rho*e)\n",
      "u2_0=numpy.zeros(nx)\n",
      "u3_0=numpy.ones(nx)*100000./(gamma-1)\n",
      "\"ICr\"\n",
      "u1_0[((nx-1)/2):]=0.125\n",
      "u3_0[((nx-1)/2):]=10000./(gamma-1) "
     ],
     "language": "python",
     "metadata": {},
     "outputs": [],
     "prompt_number": 362
    },
    {
     "cell_type": "code",
     "collapsed": false,
     "input": [
      "def f(u):\n",
      "    u1=u[:,0]\n",
      "    u2=u[:,1]\n",
      "    u3=u[:,2]\n",
      "    fu=numpy.empty_like(u)\n",
      "    fu[:,0]=u2\n",
      "    fu[:,1]=((u2**2)/u1)+(gamma-1)*(u3-0.5*((u2**2)/u1))\n",
      "    fu[:,2]=(u3+(gamma-1)*(u3-0.5*((u2**2)/u1)))*(u2/u1)\n",
      "    return fu"
     ],
     "language": "python",
     "metadata": {},
     "outputs": [],
     "prompt_number": 363
    },
    {
     "cell_type": "code",
     "collapsed": false,
     "input": [
      "def richtmeyer(u,f,dx,dt):\n",
      "    flux=f(u)\n",
      "    u_plshalf=u.copy()\n",
      "    u_minhalf=u.copy()\n",
      "    u_plshalf[1:,:]=0.5*(u[1:,:]+u[:-1,:])-((dt/(2.*dx))*(flux[1:,:]-flux[:-1,:]))\n",
      "    u_minhalf[:-1,:]=u_plshalf[1:,:]\n",
      "    flux_plshalf=f(u_plshalf)\n",
      "    flux_minhalf=f(u_minhalf)\n",
      "    u[1:-1,:]= u[1:-1,:]-(dt/dx)*(flux_plshalf[2:,:]-flux_minhalf[:-2,:])\n",
      "    return u.copy()"
     ],
     "language": "python",
     "metadata": {},
     "outputs": [],
     "prompt_number": 380
    },
    {
     "cell_type": "code",
     "collapsed": false,
     "input": [
      "\"initialize\"\n",
      "u=numpy.zeros((nx,3))\n",
      "u[:,0]=u1_0\n",
      "u[:,1]=u2_0\n",
      "u[:,2]=u3_0\n",
      "for i in range(50):\n",
      "    u=richtmeyer(u,f,dx,dt)"
     ],
     "language": "python",
     "metadata": {},
     "outputs": [],
     "prompt_number": 381
    },
    {
     "cell_type": "code",
     "collapsed": false,
     "input": [
      "print u[50,0], u[50,1]/u[50,0], ((gamma-1)*(u[50,2]-0.5*((u[50,1]**2)/u[50,0])))"
     ],
     "language": "python",
     "metadata": {},
     "outputs": [
      {
       "output_type": "stream",
       "stream": "stdout",
       "text": [
        "0.374691402648 292.611471527 30250.8901676\n"
       ]
      }
     ],
     "prompt_number": 382
    },
    {
     "cell_type": "code",
     "collapsed": false,
     "input": [
      "v_plt=u[:,1]/u[:,0]\n",
      "p_plt=((gamma-1)*(u[:,2]-0.5*((u[:,1]**2)/u[:,0])))\n",
      "plt.plot(x,u[:,0]);"
     ],
     "language": "python",
     "metadata": {},
     "outputs": [
      {
       "metadata": {},
       "output_type": "display_data",
       "png": "[encoded data removed]",
       "text": [
        "<matplotlib.figure.Figure at 0xe188470>"
       ]
      }
     ],
     "prompt_number": 383
    },
    {
     "cell_type": "code",
     "collapsed": false,
     "input": [
      "plt.plot(x,v_plt)"
     ],
     "language": "python",
     "metadata": {},
     "outputs": [
      {
       "metadata": {},
       "output_type": "pyout",
       "prompt_number": 384,
       "text": [
        "[<matplotlib.lines.Line2D at 0xdc78550>]"
       ]
      },
      {
       "metadata": {},
       "output_type": "display_data",
       "png": "[encoded data removed]",
       "text": [
        "<matplotlib.figure.Figure at 0x451e128>"
       ]
      }
     ],
     "prompt_number": 384
    },
    {
     "cell_type": "code",
     "collapsed": false,
     "input": [
      "plt.plot(x,p_plt)"
     ],
     "language": "python",
     "metadata": {},
     "outputs": [
      {
       "metadata": {},
       "output_type": "pyout",
       "prompt_number": 385,
       "text": [
        "[<matplotlib.lines.Line2D at 0xe2efa20>]"
       ]
      },
      {
       "metadata": {},
       "output_type": "display_data",
       "png": "[encoded data removed]",
       "text": [
        "<matplotlib.figure.Figure at 0xdc4deb8>"
       ]
      }
     ],
     "prompt_number": 385
    },
    {
     "cell_type": "code",
     "collapsed": false,
     "input": [],
     "language": "python",
     "metadata": {},
     "outputs": []
    }
   ],
   "metadata": {}
  }
 ]
}