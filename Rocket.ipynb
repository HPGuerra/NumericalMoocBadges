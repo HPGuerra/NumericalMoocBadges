{
 "metadata": {
  "name": "",
  "signature": "sha256:20d317e908a2567ad909ec95d80b31591bdd5e56b3155b66ff8ed19b3a3c329b"
 },
 "nbformat": 3,
 "nbformat_minor": 0,
 "worksheets": [
  {
   "cells": [
    {
     "cell_type": "code",
     "collapsed": false,
     "input": [
      "import numpy\n",
      "import matplotlib.pyplot as plt"
     ],
     "language": "python",
     "metadata": {},
     "outputs": [],
     "prompt_number": 131
    },
    {
     "cell_type": "code",
     "collapsed": false,
     "input": [
      "def mpp(dt,n):\n",
      "    if dt*n<5.:\n",
      "       return 20\n",
      "    else:\n",
      "        return 0"
     ],
     "language": "python",
     "metadata": {},
     "outputs": [],
     "prompt_number": 146
    },
    {
     "cell_type": "code",
     "collapsed": false,
     "input": [
      "def m_p_f(dt):\n",
      "    \"\"\"calculate the mass of the remaining propellant\"\"\"\n",
      "    mppi=mpp(dt,n)\n",
      "    return (mppi*dt)\n"
     ],
     "language": "python",
     "metadata": {},
     "outputs": [],
     "prompt_number": 147
    },
    {
     "cell_type": "code",
     "collapsed": false,
     "input": [
      "def f(u):\n",
      "    \"\"\"calculate f(u)\"\"\"\n",
      "    z=u[0]\n",
      "    v=u[1]\n",
      "    return numpy.array([v,(-g)+((mpp(dt,n)*v_e)-(0.5*rho*v*abs(v)*A*C_D))/(m_s+m_p)])"
     ],
     "language": "python",
     "metadata": {},
     "outputs": [],
     "prompt_number": 148
    },
    {
     "cell_type": "code",
     "collapsed": false,
     "input": [
      "\"Conditions of the problem\"\n",
      "m_s=50\n",
      "g=9.81\n",
      "rho=1.091\n",
      "A=3.14*(0.5**2)\n",
      "v_e=325\n",
      "C_D=0.15\n",
      "mp0=100\n",
      "dt=0.1\n",
      "nt=(10/dt)-1"
     ],
     "language": "python",
     "metadata": {},
     "outputs": [],
     "prompt_number": 149
    },
    {
     "cell_type": "code",
     "collapsed": false,
     "input": [
      "def euler(u, f, dt):\n",
      "    \"\"\"euler step\"\"\"\n",
      "    return u+dt*f(u)"
     ],
     "language": "python",
     "metadata": {},
     "outputs": [],
     "prompt_number": 150
    },
    {
     "cell_type": "code",
     "collapsed": false,
     "input": [
      "\"exercise 1\"\n",
      "m_p=mp0\n",
      "for n in range (32):\n",
      "    m_p=m_p-m_p_f(dt)\n",
      "print m_p"
     ],
     "language": "python",
     "metadata": {},
     "outputs": [
      {
       "output_type": "stream",
       "stream": "stdout",
       "text": [
        "36.0\n"
       ]
      }
     ],
     "prompt_number": 151
    },
    {
     "cell_type": "code",
     "collapsed": false,
     "input": [
      "\"exercise 2\"\n",
      "u=numpy.zeros(2)\n",
      "n=1\n",
      "m_p=mp0\n",
      "while mpp(dt,n)>0:\n",
      "    m_p=m_p-m_p_f(dt)\n",
      "    u=euler(u, f, dt)\n",
      "    n=n+1\n",
      "print u[1]  "
     ],
     "language": "python",
     "metadata": {},
     "outputs": [
      {
       "output_type": "stream",
       "stream": "stdout",
       "text": [
        "230.745853377\n"
       ]
      }
     ],
     "prompt_number": 152
    },
    {
     "cell_type": "code",
     "collapsed": false,
     "input": [
      "\"exercise 3\"\n",
      "t=(n-1)*dt\n",
      "print t"
     ],
     "language": "python",
     "metadata": {},
     "outputs": [
      {
       "output_type": "stream",
       "stream": "stdout",
       "text": [
        "4.9\n"
       ]
      }
     ],
     "prompt_number": 153
    },
    {
     "cell_type": "code",
     "collapsed": false,
     "input": [
      "\"exercise 4\"\n",
      "print u[0]"
     ],
     "language": "python",
     "metadata": {},
     "outputs": [
      {
       "output_type": "stream",
       "stream": "stdout",
       "text": [
        "510.007924902\n"
       ]
      }
     ],
     "prompt_number": 154
    },
    {
     "cell_type": "code",
     "collapsed": false,
     "input": [
      "\"Exercise 4 and 5\"\n",
      "u=numpy.zeros(2)\n",
      "n=1\n",
      "m_p=mp0\n",
      "while (u[1]>0 or u[0]==0):\n",
      "    m_p=m_p-m_p_f(dt)\n",
      "    u=euler(u, f, dt)\n",
      "    n=n+1\n",
      "print u[0]\n",
      "print dt*n"
     ],
     "language": "python",
     "metadata": {},
     "outputs": [
      {
       "output_type": "stream",
       "stream": "stdout",
       "text": [
        "1335.58035791\n",
        "15.9\n"
       ]
      }
     ],
     "prompt_number": 156
    },
    {
     "cell_type": "code",
     "collapsed": false,
     "input": [
      "\"exercise 6 and 7\"\n",
      "u=numpy.zeros(2)\n",
      "n=1\n",
      "m_p=mp0\n",
      "for n in range (50):\n",
      "    m_p=m_p-m_p_f(dt)\n",
      "    u=euler(u, f, dt)\n",
      "    n=n+1\n",
      "while (abs(u[0])>10):\n",
      "    m_p=m_p-m_p_f(dt)\n",
      "    u=euler(u, f, dt)\n",
      "    n=n+1\n",
      "print dt*n\n",
      "print u[1]"
     ],
     "language": "python",
     "metadata": {},
     "outputs": [
      {
       "output_type": "stream",
       "stream": "stdout",
       "text": [
        "37.3\n",
        "-86.0726625654\n"
       ]
      }
     ],
     "prompt_number": 157
    },
    {
     "cell_type": "code",
     "collapsed": false,
     "input": [],
     "language": "python",
     "metadata": {},
     "outputs": []
    }
   ],
   "metadata": {}
  }
 ]
}